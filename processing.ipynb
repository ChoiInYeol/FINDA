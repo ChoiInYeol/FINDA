{
 "cells": [
  {
   "cell_type": "code",
   "execution_count": null,
   "metadata": {},
   "outputs": [
    {
     "ename": "",
     "evalue": "",
     "output_type": "error",
     "traceback": [
      "\u001b[1;31m커널을 시작하지 못했습니다. \n",
      "\u001b[1;31m커널 '.conda (Python 3.8.20)'을(를) 시작하지 못했습니다. \n",
      "\u001b[1;31m자세한 내용은 Jupyter <a href='command:jupyter.viewOutput'>로그</a>을 참조하세요. listen EFAULT: bad address in system call argument :::9011"
     ]
    }
   ],
   "source": [
    "# 메타데이터 추출\n",
    "import pandas as pd\n",
    "import os\n",
    "\n",
    "def create_metadata_from_files():\n",
    "    # 데이터 저장 경로\n",
    "    base_path = 'Data'\n",
    "    markets = ['KOSPI', 'KOSDAQ']\n",
    "    \n",
    "    # 메타데이터를 저장할 리스트\n",
    "    metadata_list = []\n",
    "    \n",
    "    # 각 시장별로 파일 탐색\n",
    "    for market in markets:\n",
    "        market_path = os.path.join(base_path, market)\n",
    "        \n",
    "        # 해당 경로가 존재하는 경우에만 처리\n",
    "        if os.path.exists(market_path):\n",
    "            # 디렉토리 내의 모든 CSV 파일 탐색\n",
    "            for filename in os.listdir(market_path):\n",
    "                if filename.endswith('.csv'):\n",
    "                    # 파일명에서 종목코드와 종목명 추출\n",
    "                    # 형식: \"종목코드_종목명.csv\"\n",
    "                    code_name = filename.replace('.csv', '')\n",
    "                    code, name = code_name.split('_', 1)\n",
    "                    \n",
    "                    # 메타데이터 리스트에 추가\n",
    "                    metadata_list.append({\n",
    "                        '거래소명': market,\n",
    "                        '종목코드': code,\n",
    "                        '종목명': name\n",
    "                    })\n",
    "    \n",
    "    # 데이터프레임 생성\n",
    "    metadata_df = pd.DataFrame(metadata_list)\n",
    "    \n",
    "    # 종목코드 기준으로 정렬\n",
    "    metadata_df = metadata_df.sort_values(['거래소명', '종목코드'])\n",
    "    \n",
    "    # 인덱스 리셋\n",
    "    metadata_df = metadata_df.reset_index(drop=True)\n",
    "    \n",
    "    return metadata_df\n",
    "\n",
    "# 메타데이터 생성\n",
    "metadata = create_metadata_from_files()\n",
    "\n",
    "# 메타데이터 정보 출력\n",
    "print(\"=== 메타데이터 정보 ===\")\n",
    "print(f\"총 종목 수: {len(metadata)}\")\n",
    "print(\"\\n거래소별 종목 수:\")\n",
    "print(metadata['거래소명'].value_counts())\n",
    "print(\"\\n=== 메타데이터 미리보기 ===\")\n",
    "print(metadata.head())\n",
    "\n",
    "# 메타데이터 저장\n",
    "metadata.to_csv('Data/metadata.csv', index=False, encoding='utf-8-sig')"
   ]
  },
  {
   "cell_type": "code",
   "execution_count": null,
   "metadata": {},
   "outputs": [],
   "source": []
  }
 ],
 "metadata": {
  "kernelspec": {
   "display_name": "Python 3",
   "language": "python",
   "name": "python3"
  },
  "language_info": {
   "name": "python",
   "version": "3.8.20"
  }
 },
 "nbformat": 4,
 "nbformat_minor": 2
}
