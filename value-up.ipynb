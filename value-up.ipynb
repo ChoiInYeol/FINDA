{
 "cells": [
  {
   "cell_type": "code",
   "execution_count": 1,
   "metadata": {},
   "outputs": [
    {
     "ename": "ModuleNotFoundError",
     "evalue": "No module named 'pandas'",
     "output_type": "error",
     "traceback": [
      "\u001b[1;31m---------------------------------------------------------------------------\u001b[0m",
      "\u001b[1;31mModuleNotFoundError\u001b[0m                       Traceback (most recent call last)",
      "Cell \u001b[1;32mIn[1], line 1\u001b[0m\n\u001b[1;32m----> 1\u001b[0m \u001b[38;5;28;01mimport\u001b[39;00m \u001b[38;5;21;01mpandas\u001b[39;00m \u001b[38;5;28;01mas\u001b[39;00m \u001b[38;5;21;01mpd\u001b[39;00m\n\u001b[0;32m      2\u001b[0m \u001b[38;5;28;01mimport\u001b[39;00m \u001b[38;5;21;01mnumpy\u001b[39;00m \u001b[38;5;28;01mas\u001b[39;00m \u001b[38;5;21;01mnp\u001b[39;00m\n\u001b[0;32m      3\u001b[0m \u001b[38;5;28;01mfrom\u001b[39;00m \u001b[38;5;21;01msklearn\u001b[39;00m\u001b[38;5;21;01m.\u001b[39;00m\u001b[38;5;21;01mensemble\u001b[39;00m \u001b[38;5;28;01mimport\u001b[39;00m GradientBoostingClassifier\n",
      "\u001b[1;31mModuleNotFoundError\u001b[0m: No module named 'pandas'"
     ]
    }
   ],
   "source": [
    "import pandas as pd\n",
    "import numpy as np\n",
    "from sklearn.ensemble import GradientBoostingClassifier\n",
    "from sklearn.model_selection import TimeSeriesSplit\n",
    "from sklearn.metrics import accuracy_score\n",
    "\n",
    "# 데이터 로드\n",
    "data = pd.read_csv(\"your_stock_data.csv\", parse_dates=['date'])  # date 열을 datetime 형식으로 파싱\n",
    "data = data.dropna()  # 결측치 제거\n",
    "\n",
    "data['daily_return'] = data['close'].pct_change()\n",
    "data['volatility'] = data['close'].rolling(window=20).std()  # 20일 이동표준편차\n",
    "\n",
    "# RSI 계산 (상대강도지수, 14일 기준)\n",
    "delta = data['close'].diff()\n",
    "gain = delta.where(delta > 0, 0)\n",
    "loss = -delta.where(delta < 0, 0)\n",
    "avg_gain = gain.rolling(window=14).mean()\n",
    "avg_loss = loss.rolling(window=14).mean()\n",
    "rs = avg_gain / avg_loss\n",
    "data['RSI'] = 100 - (100 / (1 + rs))\n",
    "\n",
    "# MACD 계산\n",
    "ema_12 = data['close'].ewm(span=12, adjust=False).mean()\n",
    "ema_26 = data['close'].ewm(span=26, adjust=False).mean()\n",
    "data['MACD'] = ema_12 - ema_26\n",
    "data['Signal_Line'] = data['MACD'].ewm(span=9, adjust=False).mean()\n",
    "\n",
    "# 볼린저 밴드 계산\n",
    "data['MA20'] = data['close'].rolling(window=20).mean()\n",
    "data['BB_upper'] = data['MA20'] + (2 * data['close'].rolling(window=20).std())\n",
    "data['BB_lower'] = data['MA20'] - (2 * data['close'].rolling(window=20).std())\n",
    "\n",
    "# 1일 후 종가가 상승하면 1, 하락하면 0으로 라벨링\n",
    "data['target'] = np.where(data['close'].shift(-1) > data['close'], 1, 0)\n",
    "data = data.dropna()  # 이후 생긴 결측치 제거\n",
    "\n",
    "# 사용하지 않을 열 제거\n",
    "X = data.drop(columns=['date', 'open', 'high', 'low', 'close', 'volume', 'target'])\n",
    "y = data['target']"
   ]
  },
  {
   "cell_type": "code",
   "execution_count": null,
   "metadata": {},
   "outputs": [],
   "source": [
    "\n",
    "\n",
    "\n",
    "\n",
    "# 시계열 고려한 학습-테스트 분할\n",
    "tscv = TimeSeriesSplit(n_splits=5)\n",
    "gb_clf = GradientBoostingClassifier(n_estimators=100, learning_rate=0.1, max_depth=3)\n",
    "\n",
    "# 시계열 교차 검증\n",
    "for train_idx, test_idx in tscv.split(X):\n",
    "    X_train, X_test = X.iloc[train_idx], X.iloc[test_idx]\n",
    "    y_train, y_test = y.iloc[train_idx], y.iloc[test_idx]\n",
    "    gb_clf.fit(X_train, y_train)\n",
    "    y_pred = gb_clf.predict(X_test)\n",
    "    print(f\"정확도: {accuracy_score(y_test, y_pred):.4f}\")\n"
   ]
  }
 ],
 "metadata": {
  "kernelspec": {
   "display_name": "FINDA-we54eZ8F",
   "language": "python",
   "name": "python3"
  },
  "language_info": {
   "codemirror_mode": {
    "name": "ipython",
    "version": 3
   },
   "file_extension": ".py",
   "mimetype": "text/x-python",
   "name": "python",
   "nbconvert_exporter": "python",
   "pygments_lexer": "ipython3",
   "version": "3.8.19"
  }
 },
 "nbformat": 4,
 "nbformat_minor": 2
}
