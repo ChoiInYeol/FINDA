{
 "cells": [
  {
   "cell_type": "code",
   "execution_count": 10,
   "metadata": {},
   "outputs": [],
   "source": [
    "import pandas as pd\n",
    "temp = pd.read_csv('kospi_fundamentals_2019_2024.csv', dtype={'stockcode': str})\n",
    "\n",
    "temp\n",
    "\n",
    "# '날짜' 칼럼 기준으로 년도 별로 구분해서 따로 저장\n",
    "\n",
    "temp['날짜'] = pd.to_datetime(temp['날짜'])\n",
    "temp['년도'] = temp['날짜'].dt.year\n",
    "\n",
    "temp\n",
    "\n",
    "# csv 파일로 연도별 저장\n",
    "\n",
    "for year in temp['년도'].unique():\n",
    "    temp[temp['년도'] == year].to_csv(f'kospi_fundamentals_{year}.csv', index=False)\n",
    "\n",
    "temp\n",
    "\n",
    "# kospi, kosdaq 데이터 합치기\n",
    "\n",
    "year = range(2019, 2025)\n",
    "\n",
    "for year in year:                               \n",
    "    kospi = pd.read_csv(f'kospi_fundamentals_{year}.csv')\n",
    "    kosdaq = pd.read_csv(f'kosdaq_fundamentals_{year}.csv')\n",
    "    \n",
    "    fundamentals = pd.concat([kospi, kosdaq])\n",
    "\n",
    "    fundamentals.to_csv(f'fundamentals_{year}.csv', index=False)"
   ]
  }
 ],
 "metadata": {
  "kernelspec": {
   "display_name": "Python 3",
   "language": "python",
   "name": "python3"
  },
  "language_info": {
   "codemirror_mode": {
    "name": "ipython",
    "version": 3
   },
   "file_extension": ".py",
   "mimetype": "text/x-python",
   "name": "python",
   "nbconvert_exporter": "python",
   "pygments_lexer": "ipython3",
   "version": "3.8.20"
  }
 },
 "nbformat": 4,
 "nbformat_minor": 2
}
